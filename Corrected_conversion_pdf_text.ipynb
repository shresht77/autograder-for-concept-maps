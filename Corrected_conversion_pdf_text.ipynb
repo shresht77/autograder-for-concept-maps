{
  "nbformat": 4,
  "nbformat_minor": 0,
  "metadata": {
    "colab": {
      "name": "Corrected conversion pdf - text.ipynb",
      "provenance": [],
      "authorship_tag": "ABX9TyOeFn8NZsKF/v64X6m77G5a",
      "include_colab_link": true
    },
    "kernelspec": {
      "name": "python3",
      "display_name": "Python 3"
    }
  },
  "cells": [
    {
      "cell_type": "markdown",
      "metadata": {
        "id": "view-in-github",
        "colab_type": "text"
      },
      "source": [
        "<a href=\"https://colab.research.google.com/github/shresht77/autograder-for-concept-maps/blob/main/Corrected_conversion_pdf_text.ipynb\" target=\"_parent\"><img src=\"https://colab.research.google.com/assets/colab-badge.svg\" alt=\"Open In Colab\"/></a>"
      ]
    },
    {
      "cell_type": "code",
      "metadata": {
        "colab": {
          "base_uri": "https://localhost:8080/"
        },
        "id": "B-JL5wuKWoHz",
        "outputId": "37eafb83-e945-43f0-9463-dc02a8b06b5c"
      },
      "source": [
        "from google.colab import drive\n",
        "drive.mount('/content/drive')"
      ],
      "execution_count": null,
      "outputs": [
        {
          "output_type": "stream",
          "text": [
            "Mounted at /content/drive\n"
          ],
          "name": "stdout"
        }
      ]
    },
    {
      "cell_type": "code",
      "metadata": {
        "colab": {
          "base_uri": "https://localhost:8080/"
        },
        "id": "rBDWBAOlXBfv",
        "outputId": "720b90ce-e6b9-490d-83aa-60b082cc21e9"
      },
      "source": [
        "%ls\n"
      ],
      "execution_count": null,
      "outputs": [
        {
          "output_type": "stream",
          "text": [
            "\u001b[0m\u001b[01;34msample_data\u001b[0m/  Security.txt\n"
          ],
          "name": "stdout"
        }
      ]
    },
    {
      "cell_type": "code",
      "metadata": {
        "id": "TBX1yvNFXSne"
      },
      "source": [
        "prev = \"\"\n",
        "a = \"Attacks_mod.txt\"\n",
        "b = \"out_\" + a \n",
        "with open(a) as f:\n",
        "  for line in f:  \n",
        "    for ch in line:\n",
        "      if (ch==\"\\n\"):\n",
        "        if (prev == \"\\n\"):\n",
        "          ch = \"\"\n",
        "\n",
        "      if (ch == \"-\"):\n",
        "        prev = \"-\"\n",
        "      else:\n",
        "        with open(b, \"a\") as f1:\n",
        "          if (prev == \"-\"):\n",
        "            if (ch == \" \"):\n",
        "              ch = \"\"\n",
        "            else:\n",
        "              f1.write(\"-\") \n",
        "          f1.write(ch.lower())\n",
        "      prev = ch"
      ],
      "execution_count": null,
      "outputs": []
    },
    {
      "cell_type": "code",
      "metadata": {
        "id": "VE_iGtvUXuFS"
      },
      "source": [
        ""
      ],
      "execution_count": null,
      "outputs": []
    }
  ]
}